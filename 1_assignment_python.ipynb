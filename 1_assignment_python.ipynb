{
 "cells": [
  {
   "cell_type": "markdown",
   "id": "df5b8a4e",
   "metadata": {},
   "source": [
    "1. In the below elements which of them are values or an expression? eg:- values can be integer or string and expressions will be mathematical operators.\n",
    "* \n",
    "'hello'\n",
    "-87.8\n",
    "- \n",
    "/ \n",
    "+\t\n",
    "6 \n",
    "\n",
    "\n",
    "solution (1)\n",
    "\n",
    "in the above statement \n",
    "\n",
    "> values are :- \n",
    "    'hello' which is a string\n",
    "    -87.8 is a negative float value which is a value\n",
    "    6 is an int value \n",
    "    \n",
    "> expression are:- \n",
    "    - > substraction are comes under mathematical expression\n",
    "    / > this is also an expression\n",
    "    + > this is addition expression \n",
    "    "
   ]
  },
  {
   "cell_type": "code",
   "execution_count": 15,
   "id": "6c5d65c5",
   "metadata": {},
   "outputs": [
    {
     "ename": "SyntaxError",
     "evalue": "invalid syntax (1259415854.py, line 3)",
     "output_type": "error",
     "traceback": [
      "\u001b[1;36m  Input \u001b[1;32mIn [15]\u001b[1;36m\u001b[0m\n\u001b[1;33m    a = *\u001b[0m\n\u001b[1;37m         ^\u001b[0m\n\u001b[1;31mSyntaxError\u001b[0m\u001b[1;31m:\u001b[0m invalid syntax\n"
     ]
    }
   ],
   "source": [
    "# solution (1)\n",
    "\n",
    "a = *\n",
    "b = 'hello'\n",
    "c = -87.8\n",
    "d = -\n",
    "e = /\n",
    "f = +\n",
    "g = 6\n",
    "\n",
    "print(b)\n",
    "type(b)\n",
    "print(c)\n",
    "type(c)\n",
    "print(d)\n",
    "print(e)\n",
    "print(f)\n",
    "type(f)\n",
    "print(g)\n",
    "type(g)"
   ]
  },
  {
   "cell_type": "markdown",
   "id": "b950c7ee",
   "metadata": {},
   "source": [
    "2. What is the difference between string and variable?\n",
    "\n",
    "\n",
    "solution (2)\n",
    "\n",
    "variable :- which is used to store a data, data may be string ,int ,float , complex no or other , In variable particular data is store in the form of string , int and other data type  \n",
    "\n",
    "\n",
    "string :- is a type of datatype , string is immutable which can not be changed or unchanged, str denoted between single ' ',  \" \" , \"\"\" \"\"\" "
   ]
  },
  {
   "cell_type": "code",
   "execution_count": 40,
   "id": "89392af5",
   "metadata": {},
   "outputs": [
    {
     "name": "stdout",
     "output_type": "stream",
     "text": [
      "devendra <class 'str'>\n",
      "devendra <class 'str'>\n",
      "\n",
      "x = 10\n",
      "y = 20\n",
      "z = 30\n",
      " <class 'str'>\n",
      "devendradevendra <class 'str'>\n",
      "['dev', True, 1, 2, 3.25, 5.52, (5+0j)]\n",
      "(1, 2, 3.25, 4.25, 'dev', 'mandloi', (2+0j), True)\n"
     ]
    },
    {
     "data": {
      "text/plain": [
       "tuple"
      ]
     },
     "execution_count": 40,
     "metadata": {},
     "output_type": "execute_result"
    }
   ],
   "source": [
    "# 3. Describe three different data types.\n",
    "\n",
    "# solution three major datatype are:- (1) str ,(2) list (3) tuple\n",
    "\n",
    "# STRING :- string is denoted by single , double , and triple qutoes both single and double are same but triple quotes is used for multiline test\n",
    "#          * string are immutable which is unchanged after creation\n",
    "#          * string syntax is str\n",
    "#          * str can concatenate between two or more string but not which other datatype\n",
    "#          * example of strings are :-\n",
    "\n",
    "a = 'devendra' # single quotes\n",
    "b = \"devendra\" # double quotes\n",
    "c = \"\"\"\n",
    "x = 10\n",
    "y = 20\n",
    "z = 30\n",
    "\"\"\"\n",
    "d = a + b\n",
    "\n",
    "print(a, type(a))\n",
    "print(b, type(b))\n",
    "print(c, type(c))\n",
    "print(d, type(d))\n",
    "\n",
    "\n",
    "# LIST :- list is sequencial datatype and mutable which can easily be changed after creation, list can store str, complex no, bool datatype, int , float etc,\n",
    "#    * enclosed within square backets\n",
    "#    * ordered collection of data\n",
    "#    * having an index from zero\n",
    "#    * example:- \n",
    "\n",
    "my_list = ['dev',True,1,2,3.25,5.52,5+0j]\n",
    "print(my_list)\n",
    "type(my_list)\n",
    "\n",
    "\n",
    "# TUPLE :- tuple is an another data type in python which can be similar as list but can not be changed once created , same indexing as list\n",
    "#    * ordered data collection\n",
    "#    * immutable\n",
    "#    * circular brackets are used \n",
    "#    * fast than list\n",
    "#    * example :-\n",
    "\n",
    "my_tuple = (1,2,3.25,4.25,'dev','mandloi',2+0j,True)\n",
    "print(my_tuple)\n",
    "type(my_tuple)\n"
   ]
  },
  {
   "cell_type": "code",
   "execution_count": 50,
   "id": "ace453af",
   "metadata": {},
   "outputs": [
    {
     "name": "stdout",
     "output_type": "stream",
     "text": [
      "50\n"
     ]
    }
   ],
   "source": [
    "# 4. What is an expression made up of? What do all expressions do?\n",
    "\n",
    "\n",
    "# solution :- expression is a combination of variable , operations and values , expression that gives the output \n",
    "\n",
    "a = 5    # here 5 is an statement\n",
    "b = 10 \n",
    "c = a* b  # is an expressiom\n",
    "print(c) # print is a statement"
   ]
  },
  {
   "cell_type": "raw",
   "id": "ca59a431",
   "metadata": {},
   "source": [
    "addition (+)\n",
    "substraction (-)\n",
    "division (/)\n",
    "mouldo (%)\n",
    "exponent (**)\n",
    "floor division (//)\n"
   ]
  },
  {
   "cell_type": "code",
   "execution_count": 51,
   "id": "3278d78c",
   "metadata": {},
   "outputs": [
    {
     "name": "stdout",
     "output_type": "stream",
     "text": [
      "10\n"
     ]
    }
   ],
   "source": [
    "# que(5) . This assignment statements, like spam = 10. What is the difference between an expression and a statement?\n",
    "\n",
    "# expression is a combination of values , variables and operation \n",
    "# assignment statement is represent an action or command\n",
    "\n",
    "spam = 10 #this is an  statement\n",
    "print(spam) # this is an assignment statement"
   ]
  },
  {
   "cell_type": "code",
   "execution_count": 52,
   "id": "9086cd50",
   "metadata": {},
   "outputs": [
    {
     "data": {
      "text/plain": [
       "23"
      ]
     },
     "execution_count": 52,
     "metadata": {},
     "output_type": "execute_result"
    }
   ],
   "source": [
    "# que(6)\n",
    "# 6. After running the following code, what does the variable bacon contain?\n",
    "# bacon = 22\n",
    "# bacon + 1\n",
    "\n",
    "\n",
    "bacon = 22 #variable contain a int \n",
    "bacon + 1 # when we add two or more same datatype then they can concatenates therefor answer is 23"
   ]
  },
  {
   "cell_type": "code",
   "execution_count": 57,
   "id": "16e38b58",
   "metadata": {},
   "outputs": [
    {
     "name": "stdout",
     "output_type": "stream",
     "text": [
      "spamspamspam\n",
      "spamspamspam\n"
     ]
    }
   ],
   "source": [
    "# que(7)\n",
    "# 7. What should the values of the following two terms be?\n",
    "'spam' + 'spamspam'\n",
    "'spam' * 3\n",
    "\n",
    "\n",
    "# solution :- \n",
    "\n",
    "a = 'spam'+'spamspam'  \n",
    "b = 'spam'*3\n",
    "\n",
    "print(a) # they both contain same datatype\n",
    "print(b) # multiplication can be done in a single type of datatype"
   ]
  },
  {
   "cell_type": "code",
   "execution_count": 58,
   "id": "6aa27447",
   "metadata": {},
   "outputs": [],
   "source": [
    "# que(8)\n",
    "# 8. Why is eggs a valid variable name while 100 is invalid?\n",
    "\n",
    "# solution\n",
    "# Python has some rules and rules are:-\n",
    "#(1). Variable can not starts with a numbers\n",
    "#(2). Variable can not starts with a special characters\n",
    "#(3). Python is a case sensitive\n",
    "\n",
    "# eggs is valid variable name because this is not start with a any numbers or special characters .\n",
    "# wheares 100 is invalid because as per python rule variable can not starts with any numbers or special characters.\n"
   ]
  },
  {
   "cell_type": "code",
   "execution_count": 59,
   "id": "78ef278a",
   "metadata": {},
   "outputs": [],
   "source": [
    "eggs = 'variable according to the python rules '"
   ]
  },
  {
   "cell_type": "code",
   "execution_count": 60,
   "id": "13ba465c",
   "metadata": {},
   "outputs": [
    {
     "ename": "SyntaxError",
     "evalue": "cannot assign to literal (2070262797.py, line 1)",
     "output_type": "error",
     "traceback": [
      "\u001b[1;36m  Input \u001b[1;32mIn [60]\u001b[1;36m\u001b[0m\n\u001b[1;33m    100 = 'this is not according to python rule'\u001b[0m\n\u001b[1;37m    ^\u001b[0m\n\u001b[1;31mSyntaxError\u001b[0m\u001b[1;31m:\u001b[0m cannot assign to literal\n"
     ]
    }
   ],
   "source": [
    "100 = 'this is not according to python rule'"
   ]
  },
  {
   "cell_type": "code",
   "execution_count": 67,
   "id": "cb76a9e6",
   "metadata": {},
   "outputs": [
    {
     "data": {
      "text/plain": [
       "''"
      ]
     },
     "execution_count": 67,
     "metadata": {},
     "output_type": "execute_result"
    }
   ],
   "source": [
    "# que(9)\n",
    "# 9. What three functions can be used to get the integer, floating-point number, or string version of a value?\n",
    "\n",
    "# solution\n",
    "int()\n",
    "float()\n",
    "str()\n"
   ]
  },
  {
   "cell_type": "code",
   "execution_count": 64,
   "id": "0d1a7844",
   "metadata": {},
   "outputs": [
    {
     "ename": "TypeError",
     "evalue": "can only concatenate str (not \"int\") to str",
     "output_type": "error",
     "traceback": [
      "\u001b[1;31m---------------------------------------------------------------------------\u001b[0m",
      "\u001b[1;31mTypeError\u001b[0m                                 Traceback (most recent call last)",
      "Input \u001b[1;32mIn [64]\u001b[0m, in \u001b[0;36m<cell line: 6>\u001b[1;34m()\u001b[0m\n\u001b[0;32m      1\u001b[0m \u001b[38;5;66;03m# que(10)\u001b[39;00m\n\u001b[0;32m      2\u001b[0m \u001b[38;5;66;03m# 10. Why does this expression cause an error? How can you fix it?\u001b[39;00m\n\u001b[0;32m      3\u001b[0m \n\u001b[0;32m      4\u001b[0m \u001b[38;5;66;03m# solution :- strings can not be concatinate between integers \u001b[39;00m\n\u001b[1;32m----> 6\u001b[0m \u001b[38;5;124;43m'\u001b[39;49m\u001b[38;5;124;43mI have eaten \u001b[39;49m\u001b[38;5;124;43m'\u001b[39;49m\u001b[43m \u001b[49m\u001b[38;5;241;43m+\u001b[39;49m\u001b[43m \u001b[49m\u001b[38;5;241;43m99\u001b[39;49m \u001b[38;5;241m+\u001b[39m \u001b[38;5;124m'\u001b[39m\u001b[38;5;124m burritos.\u001b[39m\u001b[38;5;124m'\u001b[39m\n",
      "\u001b[1;31mTypeError\u001b[0m: can only concatenate str (not \"int\") to str"
     ]
    }
   ],
   "source": [
    "# que(10)\n",
    "# 10. Why does this expression cause an error? How can you fix it?\n",
    "\n",
    "# solution :- strings can not be concatinate between integers \n",
    "\n",
    "'I have eaten ' + 99 + ' burritos.'"
   ]
  },
  {
   "cell_type": "code",
   "execution_count": 65,
   "id": "b1cde729",
   "metadata": {},
   "outputs": [
    {
     "data": {
      "text/plain": [
       "'I have eaten 99 burritos.'"
      ]
     },
     "execution_count": 65,
     "metadata": {},
     "output_type": "execute_result"
    }
   ],
   "source": [
    "'I have eaten ' + str(99) + ' burritos.'"
   ]
  },
  {
   "cell_type": "code",
   "execution_count": 66,
   "id": "922e391d",
   "metadata": {},
   "outputs": [
    {
     "data": {
      "text/plain": [
       "'I have eaten 99 burritos.'"
      ]
     },
     "execution_count": 66,
     "metadata": {},
     "output_type": "execute_result"
    }
   ],
   "source": [
    "#or \n",
    "\n",
    "'I have eaten ' + '99' + ' burritos.'"
   ]
  },
  {
   "cell_type": "code",
   "execution_count": null,
   "id": "47742f40",
   "metadata": {},
   "outputs": [],
   "source": []
  }
 ],
 "metadata": {
  "kernelspec": {
   "display_name": "Python 3 (ipykernel)",
   "language": "python",
   "name": "python3"
  },
  "language_info": {
   "codemirror_mode": {
    "name": "ipython",
    "version": 3
   },
   "file_extension": ".py",
   "mimetype": "text/x-python",
   "name": "python",
   "nbconvert_exporter": "python",
   "pygments_lexer": "ipython3",
   "version": "3.9.12"
  }
 },
 "nbformat": 4,
 "nbformat_minor": 5
}
